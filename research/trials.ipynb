{
 "cells": [],
 "metadata": {
  "interpreter": {
   "hash": "c74f59f4abffbdb5fdccb0c4016474e1f04c200ed9bf0863a6bdb22b72094c50"
  },
  "kernelspec": {
   "display_name": "Python 3.8.0 ('textS')",
   "language": "python",
   "name": "python3"
  },
  "language_info": {
   "codemirror_mode": {
    "name": "ipython",
    "version": 3
   },
   "file_extension": ".py",
   "mimetype": "text/x-python",
   "name": "python",
   "nbconvert_exporter": "python",
   "pygments_lexer": "ipython3",
   "version": "3.8.20"
  },
  "orig_nbformat": 4
 },
 "nbformat": 4,
 "nbformat_minor": 2
}
